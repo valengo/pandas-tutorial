{
  "nbformat": 4,
  "nbformat_minor": 0,
  "metadata": {
    "colab": {
      "name": "primeiros-passos.ipynb",
      "provenance": [],
      "authorship_tag": "ABX9TyM/KQCQFaT5TWTgPccRvDRr",
      "include_colab_link": true
    },
    "kernelspec": {
      "name": "python3",
      "display_name": "Python 3"
    },
    "language_info": {
      "name": "python"
    }
  },
  "cells": [
    {
      "cell_type": "markdown",
      "metadata": {
        "id": "view-in-github",
        "colab_type": "text"
      },
      "source": [
        "<a href=\"https://colab.research.google.com/github/valengo/pandas-tutorial/blob/main/primeiros_passos.ipynb\" target=\"_parent\"><img src=\"https://colab.research.google.com/assets/colab-badge.svg\" alt=\"Open In Colab\"/></a>"
      ]
    },
    {
      "cell_type": "markdown",
      "metadata": {
        "id": "wcX2OJcT-N7t"
      },
      "source": [
        "Uma versão online de Notebook está disponível no Google Colaboratory para visualização e/ou cópia. Para acessar, [clique aqui](https://colab.research.google.com/drive/16zO5AZ5bymClUGc-5UqrNPwSnkyF8DNH?usp=sharing)!\n",
        "\n",
        "Você pode também clonar esse repositório. 😁"
      ]
    },
    {
      "cell_type": "markdown",
      "metadata": {
        "id": "HGLfo9EqpH0e"
      },
      "source": [
        "Nesse tutorial vamos utilizar o dataset [\"Amazon Top 50 Bestselling Books 2009-2019\"](https://www.kaggle.com/sootersaalu/amazon-top-50-bestselling-books-2009-2019) que é Public Domain e pode ser baixado no site [kaggle](https://www.kaggle.com).\n",
        "\n",
        "Para facilitar, eu hospedei os dados no repositório do GitHub para esse tutorial. Você pode, se quiser, baixá-lo clicando [aqui](https://raw.githubusercontent.com/valengo/pandas-tutorial/main/bestsellers-with-categories.csv). Esse arquivo tem 8 colunas delimitadas por vírgulas (formato csv).\n",
        "\n",
        "[Pandas](https://pandas.pydata.org) é um pacote Python para manipulação e análise de dados. Após instalação, é preciso importar o pacote para utilizar em nossos *scripts*:"
      ]
    },
    {
      "cell_type": "code",
      "metadata": {
        "id": "CKq2QTUFqKE8"
      },
      "source": [
        "import pandas as pd"
      ],
      "execution_count": 1,
      "outputs": []
    },
    {
      "cell_type": "markdown",
      "metadata": {
        "id": "2hokpXZY0P3w"
      },
      "source": [
        "Ao importar estamos dando um apelido (pd) para a biblioteca, para que seja mais fácil referenciá-la no nosso código.\n",
        "\n",
        "Pandas pode carregar dados de arquivos no seu computador ou até mesmo de links da internet. Nós vamos carregar os dados sobre os livros em uma variável chamada `table` a partir da [URL para o arquivo hospedado no GitHub](https://raw.githubusercontent.com/valengo/pandas-tutorial/main/bestsellers-with-categories.csv):"
      ]
    },
    {
      "cell_type": "code",
      "metadata": {
        "id": "ofn-ek--1Gow"
      },
      "source": [
        "table = pd.read_csv('https://raw.githubusercontent.com/valengo/pandas-tutorial/main/bestsellers-with-categories.csv')"
      ],
      "execution_count": 72,
      "outputs": []
    },
    {
      "cell_type": "markdown",
      "metadata": {
        "id": "9PzBatba1WOk"
      },
      "source": [
        "Nós podemos conferir as primeiras linhas da tabela com o método `head()`:"
      ]
    },
    {
      "cell_type": "code",
      "metadata": {
        "colab": {
          "base_uri": "https://localhost:8080/",
          "height": 204
        },
        "id": "3Z_73ZsF1-N2",
        "outputId": "24ddd488-b7b5-4d4c-82bd-7382739e7623"
      },
      "source": [
        "table.head()"
      ],
      "execution_count": 3,
      "outputs": [
        {
          "output_type": "execute_result",
          "data": {
            "text/html": [
              "<div>\n",
              "<style scoped>\n",
              "    .dataframe tbody tr th:only-of-type {\n",
              "        vertical-align: middle;\n",
              "    }\n",
              "\n",
              "    .dataframe tbody tr th {\n",
              "        vertical-align: top;\n",
              "    }\n",
              "\n",
              "    .dataframe thead th {\n",
              "        text-align: right;\n",
              "    }\n",
              "</style>\n",
              "<table border=\"1\" class=\"dataframe\">\n",
              "  <thead>\n",
              "    <tr style=\"text-align: right;\">\n",
              "      <th></th>\n",
              "      <th>Name</th>\n",
              "      <th>Author</th>\n",
              "      <th>User Rating</th>\n",
              "      <th>Reviews</th>\n",
              "      <th>Price</th>\n",
              "      <th>Year</th>\n",
              "      <th>Genre</th>\n",
              "    </tr>\n",
              "  </thead>\n",
              "  <tbody>\n",
              "    <tr>\n",
              "      <th>0</th>\n",
              "      <td>10-Day Green Smoothie Cleanse</td>\n",
              "      <td>JJ Smith</td>\n",
              "      <td>4.7</td>\n",
              "      <td>17350</td>\n",
              "      <td>8</td>\n",
              "      <td>2016</td>\n",
              "      <td>Non Fiction</td>\n",
              "    </tr>\n",
              "    <tr>\n",
              "      <th>1</th>\n",
              "      <td>11/22/63: A Novel</td>\n",
              "      <td>Stephen King</td>\n",
              "      <td>4.6</td>\n",
              "      <td>2052</td>\n",
              "      <td>22</td>\n",
              "      <td>2011</td>\n",
              "      <td>Fiction</td>\n",
              "    </tr>\n",
              "    <tr>\n",
              "      <th>2</th>\n",
              "      <td>12 Rules for Life: An Antidote to Chaos</td>\n",
              "      <td>Jordan B. Peterson</td>\n",
              "      <td>4.7</td>\n",
              "      <td>18979</td>\n",
              "      <td>15</td>\n",
              "      <td>2018</td>\n",
              "      <td>Non Fiction</td>\n",
              "    </tr>\n",
              "    <tr>\n",
              "      <th>3</th>\n",
              "      <td>1984 (Signet Classics)</td>\n",
              "      <td>George Orwell</td>\n",
              "      <td>4.7</td>\n",
              "      <td>21424</td>\n",
              "      <td>6</td>\n",
              "      <td>2017</td>\n",
              "      <td>Fiction</td>\n",
              "    </tr>\n",
              "    <tr>\n",
              "      <th>4</th>\n",
              "      <td>5,000 Awesome Facts (About Everything!) (Natio...</td>\n",
              "      <td>National Geographic Kids</td>\n",
              "      <td>4.8</td>\n",
              "      <td>7665</td>\n",
              "      <td>12</td>\n",
              "      <td>2019</td>\n",
              "      <td>Non Fiction</td>\n",
              "    </tr>\n",
              "  </tbody>\n",
              "</table>\n",
              "</div>"
            ],
            "text/plain": [
              "                                                Name  ...        Genre\n",
              "0                      10-Day Green Smoothie Cleanse  ...  Non Fiction\n",
              "1                                  11/22/63: A Novel  ...      Fiction\n",
              "2            12 Rules for Life: An Antidote to Chaos  ...  Non Fiction\n",
              "3                             1984 (Signet Classics)  ...      Fiction\n",
              "4  5,000 Awesome Facts (About Everything!) (Natio...  ...  Non Fiction\n",
              "\n",
              "[5 rows x 7 columns]"
            ]
          },
          "metadata": {
            "tags": []
          },
          "execution_count": 3
        }
      ]
    },
    {
      "cell_type": "markdown",
      "metadata": {
        "id": "dK4LBdMO3dln"
      },
      "source": [
        "É muito importante verificarmos se existem dados inválidos em nossas colunas.\n",
        "Um jeito é investigar a contagem de NAs por coluna.\n",
        "\n",
        "No código abaixo, verificamos, por coluna, se os valores são NA com o método `isna()` e depois fazemos a soma por coluna com `sum()`."
      ]
    },
    {
      "cell_type": "code",
      "metadata": {
        "colab": {
          "base_uri": "https://localhost:8080/"
        },
        "id": "B2oq7CgX4K-i",
        "outputId": "4fd2fac6-76e2-4f14-c97c-4333599cbddc"
      },
      "source": [
        "table.isna().sum()"
      ],
      "execution_count": 4,
      "outputs": [
        {
          "output_type": "execute_result",
          "data": {
            "text/plain": [
              "Name           0\n",
              "Author         0\n",
              "User Rating    0\n",
              "Reviews        0\n",
              "Price          0\n",
              "Year           0\n",
              "Genre          0\n",
              "dtype: int64"
            ]
          },
          "metadata": {
            "tags": []
          },
          "execution_count": 4
        }
      ]
    },
    {
      "cell_type": "markdown",
      "metadata": {
        "id": "ys0CImxn63l2"
      },
      "source": [
        "Como a contagem de NAs ficou em 0 para todas as colunas, significa que não temos NAs na nossa tabela.\n",
        "\n",
        "Caso você tenha ficado em dúvida em como chegamos nessa contagem por coluna, exeplico: o que acontece basicamente é que o método `isna()` retorna uma tabela onde todos os valores são True or False em relação à pergunta \"o valor é NA?\". Ou seja, se determinado valor na tabela original é NA, na tabela resultante vamos observar True, senão False.\n",
        "\n",
        "Podemos verificar as primeiras linhas de `isna()` com o método `head()`:"
      ]
    },
    {
      "cell_type": "code",
      "metadata": {
        "colab": {
          "base_uri": "https://localhost:8080/",
          "height": 204
        },
        "id": "tUE0xb8b68I7",
        "outputId": "656de677-4826-44b1-d21a-ab4ae2a01641"
      },
      "source": [
        "table.isna().head()"
      ],
      "execution_count": 5,
      "outputs": [
        {
          "output_type": "execute_result",
          "data": {
            "text/html": [
              "<div>\n",
              "<style scoped>\n",
              "    .dataframe tbody tr th:only-of-type {\n",
              "        vertical-align: middle;\n",
              "    }\n",
              "\n",
              "    .dataframe tbody tr th {\n",
              "        vertical-align: top;\n",
              "    }\n",
              "\n",
              "    .dataframe thead th {\n",
              "        text-align: right;\n",
              "    }\n",
              "</style>\n",
              "<table border=\"1\" class=\"dataframe\">\n",
              "  <thead>\n",
              "    <tr style=\"text-align: right;\">\n",
              "      <th></th>\n",
              "      <th>Name</th>\n",
              "      <th>Author</th>\n",
              "      <th>User Rating</th>\n",
              "      <th>Reviews</th>\n",
              "      <th>Price</th>\n",
              "      <th>Year</th>\n",
              "      <th>Genre</th>\n",
              "    </tr>\n",
              "  </thead>\n",
              "  <tbody>\n",
              "    <tr>\n",
              "      <th>0</th>\n",
              "      <td>False</td>\n",
              "      <td>False</td>\n",
              "      <td>False</td>\n",
              "      <td>False</td>\n",
              "      <td>False</td>\n",
              "      <td>False</td>\n",
              "      <td>False</td>\n",
              "    </tr>\n",
              "    <tr>\n",
              "      <th>1</th>\n",
              "      <td>False</td>\n",
              "      <td>False</td>\n",
              "      <td>False</td>\n",
              "      <td>False</td>\n",
              "      <td>False</td>\n",
              "      <td>False</td>\n",
              "      <td>False</td>\n",
              "    </tr>\n",
              "    <tr>\n",
              "      <th>2</th>\n",
              "      <td>False</td>\n",
              "      <td>False</td>\n",
              "      <td>False</td>\n",
              "      <td>False</td>\n",
              "      <td>False</td>\n",
              "      <td>False</td>\n",
              "      <td>False</td>\n",
              "    </tr>\n",
              "    <tr>\n",
              "      <th>3</th>\n",
              "      <td>False</td>\n",
              "      <td>False</td>\n",
              "      <td>False</td>\n",
              "      <td>False</td>\n",
              "      <td>False</td>\n",
              "      <td>False</td>\n",
              "      <td>False</td>\n",
              "    </tr>\n",
              "    <tr>\n",
              "      <th>4</th>\n",
              "      <td>False</td>\n",
              "      <td>False</td>\n",
              "      <td>False</td>\n",
              "      <td>False</td>\n",
              "      <td>False</td>\n",
              "      <td>False</td>\n",
              "      <td>False</td>\n",
              "    </tr>\n",
              "  </tbody>\n",
              "</table>\n",
              "</div>"
            ],
            "text/plain": [
              "    Name  Author  User Rating  Reviews  Price   Year  Genre\n",
              "0  False   False        False    False  False  False  False\n",
              "1  False   False        False    False  False  False  False\n",
              "2  False   False        False    False  False  False  False\n",
              "3  False   False        False    False  False  False  False\n",
              "4  False   False        False    False  False  False  False"
            ]
          },
          "metadata": {
            "tags": []
          },
          "execution_count": 5
        }
      ]
    },
    {
      "cell_type": "markdown",
      "metadata": {
        "id": "rLW0HB5T8gis"
      },
      "source": [
        "Finalmente, ao usarmos o método `sum()` no resultado do `isna()`, é retornada a contagem de valores verdadeiros (True). Isso funciona basicamente porque True é 1 e o False é 0."
      ]
    },
    {
      "cell_type": "markdown",
      "metadata": {
        "id": "ZpCEEzrn9bn6"
      },
      "source": [
        "Devemos explorar os dados sempre em busca de validar os que nos foi falado. Por exemplo, teoricamente as datas de quando os livros foram classificados como *bestsellers* estão no intervalo 2009 a 2019.\n",
        "\n",
        "Para verificar as datas, vamos acessar os dados apenas na coluna 'Year' e usar o método `unique()` para gerar uma lista dos valores únicos:"
      ]
    },
    {
      "cell_type": "code",
      "metadata": {
        "colab": {
          "base_uri": "https://localhost:8080/"
        },
        "id": "21D_h711A3n4",
        "outputId": "108d751f-3fb9-4408-a7e1-d40ba04eacbe"
      },
      "source": [
        "sorted(table['Year'].unique())"
      ],
      "execution_count": 7,
      "outputs": [
        {
          "output_type": "execute_result",
          "data": {
            "text/plain": [
              "[2009, 2010, 2011, 2012, 2013, 2014, 2015, 2016, 2017, 2018, 2019]"
            ]
          },
          "metadata": {
            "tags": []
          },
          "execution_count": 7
        }
      ]
    },
    {
      "cell_type": "markdown",
      "metadata": {
        "id": "PzwvR4DlBKdV"
      },
      "source": [
        "A função `sorted()` foi utilizada para facilitar a visualização dos anos.\n",
        "Perceba que para acessar uma coluna específica, utilizamos a *string* correspondente ao nome entre colchetes, nesse caso: `table['Year']`.\n",
        "\n",
        "Uma outra forma de verificar a congruência dos dados é fazer um [histograma](https://pt.wikipedia.org/wiki/Histograma) com o método `hist()`:"
      ]
    },
    {
      "cell_type": "code",
      "metadata": {
        "colab": {
          "base_uri": "https://localhost:8080/",
          "height": 282
        },
        "id": "kPFzwojuOfmO",
        "outputId": "b4ee4607-7894-4f58-e77e-b3ce1871adea"
      },
      "source": [
        "table['Year'].hist()"
      ],
      "execution_count": 8,
      "outputs": [
        {
          "output_type": "execute_result",
          "data": {
            "text/plain": [
              "<matplotlib.axes._subplots.AxesSubplot at 0x7f7ef52d9910>"
            ]
          },
          "metadata": {
            "tags": []
          },
          "execution_count": 8
        },
        {
          "output_type": "display_data",
          "data": {
            "image/png": "[encoded data removed]",
            "text/plain": [
              "<Figure size 432x288 with 1 Axes>"
            ]
          },
          "metadata": {
            "tags": [],
            "needs_background": "light"
          }
        }
      ]
    },
    {
      "cell_type": "markdown",
      "metadata": {
        "id": "YW84g3aoQd8g"
      },
      "source": [
        "Até o momento nós realizamos operações na tabela como um todo e também em coluna específica (a do ano). Na [documentação do pacote pandas](https://pandas.pydata.org/docs/), as tabelas são referidas como [DataFrames](https://pandas.pydata.org/pandas-docs/stable/reference/api/pandas.DataFrame.html) e as colunas como [Series](https://pandas.pydata.org/pandas-docs/stable/reference/api/pandas.Series.html).\n",
        "\n",
        "Basicamente, um `DataFrame` possui duas dimensões (linhas e colunas) que podem ser nomeadas (nossas colunas têm nomes específicos: Name, Author, Year...).\n",
        "Já a `Serie` tem apenas uma dimensão, é como se fosse uma lista!\n",
        "\n",
        "Uma coisa a se ter em mente é que várias operações podem ser feitas no tabela como um tudo ou em colunas específicas."
      ]
    },
    {
      "cell_type": "markdown",
      "metadata": {
        "id": "XKDP9X89j7GG"
      },
      "source": [
        "\n",
        "\n",
        "---\n",
        "\n"
      ]
    },
    {
      "cell_type": "markdown",
      "metadata": {
        "id": "F9QRj2JUSIf3"
      },
      "source": [
        "Métricas de estatística descritiva podem ser calculadas facilmente, por exemplo a média e desvio padrão do número de avaliações (Reviews):"
      ]
    },
    {
      "cell_type": "code",
      "metadata": {
        "colab": {
          "base_uri": "https://localhost:8080/"
        },
        "id": "BFf9QoJ4W-ux",
        "outputId": "ed955bae-4f7e-435a-d9c4-67a988969c16"
      },
      "source": [
        "table['Reviews'].mean()"
      ],
      "execution_count": 11,
      "outputs": [
        {
          "output_type": "execute_result",
          "data": {
            "text/plain": [
              "11953.281818181818"
            ]
          },
          "metadata": {
            "tags": []
          },
          "execution_count": 11
        }
      ]
    },
    {
      "cell_type": "code",
      "metadata": {
        "colab": {
          "base_uri": "https://localhost:8080/"
        },
        "id": "RRYGDN8FYSyC",
        "outputId": "1ecd9e94-3524-4074-b43e-4dae224f455c"
      },
      "source": [
        "table['Reviews'].std()"
      ],
      "execution_count": 12,
      "outputs": [
        {
          "output_type": "execute_result",
          "data": {
            "text/plain": [
              "11731.132017431895"
            ]
          },
          "metadata": {
            "tags": []
          },
          "execution_count": 12
        }
      ]
    },
    {
      "cell_type": "markdown",
      "metadata": {
        "id": "0HSY64IfYev4"
      },
      "source": [
        "Considerando que o desvio padrão é quase igual a média, podemos pensar que existem livros que receberam muito mais avaliações do que outros.\n",
        "Podemos verificar isso computando o valor mínimo e máximo de avaliações:"
      ]
    },
    {
      "cell_type": "code",
      "metadata": {
        "colab": {
          "base_uri": "https://localhost:8080/"
        },
        "id": "BkQPP8HUZVDd",
        "outputId": "76729644-26ff-44d8-f889-d63e4a1c5c8f"
      },
      "source": [
        "table['Reviews'].min()"
      ],
      "execution_count": 13,
      "outputs": [
        {
          "output_type": "execute_result",
          "data": {
            "text/plain": [
              "37"
            ]
          },
          "metadata": {
            "tags": []
          },
          "execution_count": 13
        }
      ]
    },
    {
      "cell_type": "code",
      "metadata": {
        "colab": {
          "base_uri": "https://localhost:8080/"
        },
        "id": "J7j9xgsKZ1b7",
        "outputId": "48dfb4bd-c733-4f4e-8870-c7613544c98a"
      },
      "source": [
        "table['Reviews'].max()"
      ],
      "execution_count": 14,
      "outputs": [
        {
          "output_type": "execute_result",
          "data": {
            "text/plain": [
              "87841"
            ]
          },
          "metadata": {
            "tags": []
          },
          "execution_count": 14
        }
      ]
    },
    {
      "cell_type": "markdown",
      "metadata": {
        "id": "wwVxbt91Z9VX"
      },
      "source": [
        "Ao invés de calcular todos esses valores um por vez, podemos computá-los todos ao mesmo tempo com o método `describe()`:"
      ]
    },
    {
      "cell_type": "code",
      "metadata": {
        "colab": {
          "base_uri": "https://localhost:8080/"
        },
        "id": "yhndxQyQaHUI",
        "outputId": "4faaed82-2a21-43eb-bead-07d431ba6bd1"
      },
      "source": [
        "table['Reviews'].describe()"
      ],
      "execution_count": 15,
      "outputs": [
        {
          "output_type": "execute_result",
          "data": {
            "text/plain": [
              "count      550.000000\n",
              "mean     11953.281818\n",
              "std      11731.132017\n",
              "min         37.000000\n",
              "25%       4058.000000\n",
              "50%       8580.000000\n",
              "75%      17253.250000\n",
              "max      87841.000000\n",
              "Name: Reviews, dtype: float64"
            ]
          },
          "metadata": {
            "tags": []
          },
          "execution_count": 15
        }
      ]
    },
    {
      "cell_type": "markdown",
      "metadata": {
        "id": "ZyXxGw57iU7e"
      },
      "source": [
        "É possível explorar os dados de inúmeras maneiras utilizando pandas. Vamos considerar mais alguns exemplos de coisas que poderíamos ter interesse em analisar.\n",
        "\n",
        "**Quantos livros de ficção foram *bestsellers*?**\n",
        "\n",
        "Para responder essa pergunta, uma alternativa é agrupar os dados por estilo (Genre) e fazer a contagem por grupo:"
      ]
    },
    {
      "cell_type": "code",
      "metadata": {
        "colab": {
          "base_uri": "https://localhost:8080/"
        },
        "id": "qLJybVvYksSG",
        "outputId": "284d75bc-a261-488f-fd75-4faba553d8dd"
      },
      "source": [
        "table.groupby('Genre')['Genre'].count()"
      ],
      "execution_count": 17,
      "outputs": [
        {
          "output_type": "execute_result",
          "data": {
            "text/plain": [
              "Genre\n",
              "Fiction        240\n",
              "Non Fiction    310\n",
              "Name: Genre, dtype: int64"
            ]
          },
          "metadata": {
            "tags": []
          },
          "execution_count": 17
        }
      ]
    },
    {
      "cell_type": "markdown",
      "metadata": {
        "id": "PWVE7zWgFDHL"
      },
      "source": [
        "Podemos aproveitar o método `groupby()` para verificar se realmente temos 50 livros por ano:"
      ]
    },
    {
      "cell_type": "code",
      "metadata": {
        "colab": {
          "base_uri": "https://localhost:8080/"
        },
        "id": "89XxGik_FLg8",
        "outputId": "3cbe503b-8a81-48b0-95ef-6df920f6f586"
      },
      "source": [
        "table.groupby('Year')['Year'].count()"
      ],
      "execution_count": 29,
      "outputs": [
        {
          "output_type": "execute_result",
          "data": {
            "text/plain": [
              "Year\n",
              "2009    50\n",
              "2010    50\n",
              "2011    50\n",
              "2012    50\n",
              "2013    50\n",
              "2014    50\n",
              "2015    50\n",
              "2016    50\n",
              "2017    50\n",
              "2018    50\n",
              "2019    50\n",
              "Name: Year, dtype: int64"
            ]
          },
          "metadata": {
            "tags": []
          },
          "execution_count": 29
        }
      ]
    },
    {
      "cell_type": "markdown",
      "metadata": {
        "id": "pbCXYgGUkAZA"
      },
      "source": [
        "\n",
        "\n",
        "---\n",
        "\n"
      ]
    },
    {
      "cell_type": "markdown",
      "metadata": {
        "id": "egLRDCxgK6hk"
      },
      "source": [
        "Outro ponto importante para avaliarmos é se existem dados repetidos. Ou seja, existem livros que foram *bestsellers* em múltiplos anos?\n",
        "\n",
        "Considerando o nome do(a) autor(a) e o título do livro, podemos verificar os duplicados com o método `duplicated()`:"
      ]
    },
    {
      "cell_type": "code",
      "metadata": {
        "colab": {
          "base_uri": "https://localhost:8080/"
        },
        "id": "MFtSyBOWMx6Q",
        "outputId": "d249a42d-7880-43a4-ee16-9705d284156d"
      },
      "source": [
        "table.duplicated(subset=['Author', 'Name']).sum()"
      ],
      "execution_count": 31,
      "outputs": [
        {
          "output_type": "execute_result",
          "data": {
            "text/plain": [
              "199"
            ]
          },
          "metadata": {
            "tags": []
          },
          "execution_count": 31
        }
      ]
    },
    {
      "cell_type": "markdown",
      "metadata": {
        "id": "yOfuqiK5NSdJ"
      },
      "source": [
        "**Será que considerando todos as colunas exceto a do ano de classificação como *bestseller* o número se mantém?**"
      ]
    },
    {
      "cell_type": "code",
      "metadata": {
        "colab": {
          "base_uri": "https://localhost:8080/"
        },
        "id": "mvZGR0qsNjjt",
        "outputId": "2875eac2-e0be-4a92-89fc-fac84b02162c"
      },
      "source": [
        "table.duplicated(subset=['Name', 'Author', 'User Rating', 'Reviews', 'Price']).sum()"
      ],
      "execution_count": 49,
      "outputs": [
        {
          "output_type": "execute_result",
          "data": {
            "text/plain": [
              "189"
            ]
          },
          "metadata": {
            "tags": []
          },
          "execution_count": 49
        }
      ]
    },
    {
      "cell_type": "markdown",
      "metadata": {
        "id": "KZLb9h7fRRIB"
      },
      "source": [
        "É possível notar que existem algumas diferenças entre os *bestsellers* que vão além de título e autoria. Vamos investigar considerando o preço:"
      ]
    },
    {
      "cell_type": "code",
      "metadata": {
        "colab": {
          "base_uri": "https://localhost:8080/"
        },
        "id": "DRUq0RXASYFF",
        "outputId": "387aa5d5-8140-4d0d-cacf-9980152f6e09"
      },
      "source": [
        "table.duplicated(subset=['Name', 'Author', 'Price']).sum()"
      ],
      "execution_count": 50,
      "outputs": [
        {
          "output_type": "execute_result",
          "data": {
            "text/plain": [
              "189"
            ]
          },
          "metadata": {
            "tags": []
          },
          "execution_count": 50
        }
      ]
    },
    {
      "cell_type": "markdown",
      "metadata": {
        "id": "HeA889yJSu5r"
      },
      "source": [
        "Encontramos um dos fatores! Agora, ao invés de contarmos quantos são duplicados, vamos verificar as duplicações selecionando-as na tabela a partir do resultado do método `duplicated()`. "
      ]
    },
    {
      "cell_type": "code",
      "metadata": {
        "colab": {
          "base_uri": "https://localhost:8080/"
        },
        "id": "iLJQv2wkTiQt",
        "outputId": "808a5bf2-dc80-4d20-ab4e-29c0af1d5301"
      },
      "source": [
        "table[table.duplicated(subset=['Name', 'Author'], keep=False)].groupby(['Name', 'Author'])['Price'].nunique().sort_values(ascending=False)"
      ],
      "execution_count": 61,
      "outputs": [
        {
          "output_type": "execute_result",
          "data": {
            "text/plain": [
              "Name                                                                               Author           \n",
              "The Help                                                                           Kathryn Stockett     3\n",
              "The 7 Habits of Highly Effective People: Powerful Lessons in Personal Change       Stephen R. Covey     2\n",
              "Quiet: The Power of Introverts in a World That Can't Stop Talking                  Susan Cain           2\n",
              "Unbroken: A World War II Story of Survival, Resilience, and Redemption             Laura Hillenbrand    2\n",
              "To Kill a Mockingbird                                                              Harper Lee           2\n",
              "                                                                                                       ..\n",
              "The Five Dysfunctions of a Team: A Leadership Fable                                Patrick Lencioni     1\n",
              "The Four Agreements: A Practical Guide to Personal Freedom (A Toltec Wisdom Book)  Don Miguel Ruiz      1\n",
              "The Girl Who Kicked the Hornet's Nest (Millennium Trilogy)                         Stieg Larsson        1\n",
              "The Girl with the Dragon Tattoo (Millennium Series)                                Stieg Larsson        1\n",
              "A Man Called Ove: A Novel                                                          Fredrik Backman      1\n",
              "Name: Price, Length: 96, dtype: int64"
            ]
          },
          "metadata": {
            "tags": []
          },
          "execution_count": 61
        }
      ]
    },
    {
      "cell_type": "markdown",
      "metadata": {
        "id": "RZF8wboyXTXM"
      },
      "source": [
        "Fizemos bastante coisa em uma única linha de código, mas basicamente:\n",
        "\n",
        "\n",
        "*   Usamos o método `duplicated()` para encontrar todos as linhas duplicadas considerando autoria (Author) e título (Name) com o parâmetro `subset=['Name', 'Author']`. Note que passamos o parâmetro `keep=False` para retornar todas as duplicações. O padrão seria não incluir a primeira vez que a duplicação aparece. \n",
        "*   Agrupamos os resultados (linhas duplicadas) por título e autoria com o método `groupby()`, passando as colunas de interesse em uma lista `['Name', 'Author']` e por fim contamos o número de preços diferentes com o método `nunique()`, considerando a coluna 'Price'.\n",
        "*   Para terminar, usamos o método `sort_values()` para ordenar as contagens em ordem descrescente passando o parâmetro `ascending=False`.\n",
        "\n",
        "\n",
        "\n"
      ]
    },
    {
      "cell_type": "markdown",
      "metadata": {
        "id": "6UBSt_XqaNJv"
      },
      "source": [
        "Nós não vamos nos aprofundar nessa diferença dos preços, mas vamos remover as duplicações considerando autoria e título apenas. Para garantir que vamos manter apenas o primeiro ano que o livro entrou como bestseller, vamos primeiramente ordendar nossos dados por ano com o método `sort_values()`:"
      ]
    },
    {
      "cell_type": "code",
      "metadata": {
        "id": "SqmphOTjawqL"
      },
      "source": [
        "table.sort_values('Year', inplace=True)"
      ],
      "execution_count": 62,
      "outputs": []
    },
    {
      "cell_type": "markdown",
      "metadata": {
        "id": "QzfDaNiGbD8M"
      },
      "source": [
        "Nós utilizamos o parâmetro `inplace=True` para que a ordenação aconteça na própria tabela que chamamaos o método. Ou seja, não precisamos atribuir a operação para uma nova variável."
      ]
    },
    {
      "cell_type": "markdown",
      "metadata": {
        "id": "oihmr9FibbwV"
      },
      "source": [
        "Agora vamos remover as duplicações, mantendo apenas a primeira vez que um livro aparece na lista tabela de *bestsellers*:"
      ]
    },
    {
      "cell_type": "code",
      "metadata": {
        "id": "8hOmN6r-bmBC"
      },
      "source": [
        "dedup_table = table.drop_duplicates(subset=['Name', 'Author']).copy()"
      ],
      "execution_count": 73,
      "outputs": []
    },
    {
      "cell_type": "markdown",
      "metadata": {
        "id": "mTr0xs41chFw"
      },
      "source": [
        "É legal sempre verificar se as operações que fizemos deram certo. Um jeito fácil de saber se a nossa nova tabela tem o número esperado de registros, é verificar se o número de linhas é igual o número de linhas da tabela completa menos o número de duplicações:"
      ]
    },
    {
      "cell_type": "code",
      "metadata": {
        "colab": {
          "base_uri": "https://localhost:8080/"
        },
        "id": "qS0Zu_zIcwjS",
        "outputId": "de5561f1-8b10-47d3-94e9-ee89be3fc5fa"
      },
      "source": [
        "len(dedup_table) == len(table) - table.duplicated(['Name', 'Author']).sum()"
      ],
      "execution_count": 65,
      "outputs": [
        {
          "output_type": "execute_result",
          "data": {
            "text/plain": [
              "True"
            ]
          },
          "metadata": {
            "tags": []
          },
          "execution_count": 65
        }
      ]
    },
    {
      "cell_type": "markdown",
      "metadata": {
        "id": "x877ZEulkNnO"
      },
      "source": [
        "\n",
        "\n",
        "---\n",
        "\n"
      ]
    },
    {
      "cell_type": "markdown",
      "metadata": {
        "id": "g6EBRTGKmaQq"
      },
      "source": [
        "##Bora voltar para as análises exploratórias!\n",
        "\n",
        "**Existe alguma relação entre o preço e avaliação dos livros?**\n",
        "\n",
        "Para responder essa pergunta, podemos criar um [gráfico de dispersão](https://pt.wikipedia.org/wiki/Gráfico_de_dispersão) com o método `plot()`. Observe que estamos passando os parâmetros x e y, como os nomes das colunas e o `style='o'` para que o gráfico desejado seja criado."
      ]
    },
    {
      "cell_type": "code",
      "metadata": {
        "colab": {
          "base_uri": "https://localhost:8080/",
          "height": 296
        },
        "id": "QfaTf-kgoPb9",
        "outputId": "9399a4aa-b0a4-404e-af89-0ab40cce77ba"
      },
      "source": [
        "dedup_table.plot(x='Price', y='User Rating', style='o')"
      ],
      "execution_count": 66,
      "outputs": [
        {
          "output_type": "execute_result",
          "data": {
            "text/plain": [
              "<matplotlib.axes._subplots.AxesSubplot at 0x7f7ef407fad0>"
            ]
          },
          "metadata": {
            "tags": []
          },
          "execution_count": 66
        },
        {
          "output_type": "display_data",
          "data": {
            "image/png": "[encoded data removed]",
            "text/plain": [
              "<Figure size 432x288 with 1 Axes>"
            ]
          },
          "metadata": {
            "tags": [],
            "needs_background": "light"
          }
        }
      ]
    },
    {
      "cell_type": "markdown",
      "metadata": {
        "id": "S-Ahg9EupM7c"
      },
      "source": [
        "\n",
        "É possível observar que a maioria dos livros são avaliados com notas acima de 3.5.\n",
        "Além disso, os livros acima de 20 dólares parecem ser sempre bem avaliados.\n",
        "\n",
        "Como observamos anteriormente, existe uma variação grande na quantidade de avaliações por livros.\n",
        "\n",
        "**Será que a quantidade de avaliações está relacionada com o preço?**"
      ]
    },
    {
      "cell_type": "code",
      "metadata": {
        "colab": {
          "base_uri": "https://localhost:8080/",
          "height": 296
        },
        "id": "I8iS2RSZpbN2",
        "outputId": "234dab0c-4003-40eb-8b2b-f79a3cc0489b"
      },
      "source": [
        "dedup_table.plot(x='Price', y='Reviews', style='o')"
      ],
      "execution_count": 67,
      "outputs": [
        {
          "output_type": "execute_result",
          "data": {
            "text/plain": [
              "<matplotlib.axes._subplots.AxesSubplot at 0x7f7ef3d5d810>"
            ]
          },
          "metadata": {
            "tags": []
          },
          "execution_count": 67
        },
        {
          "output_type": "display_data",
          "data": {
            "image/png": "[encoded data removed]",
            "text/plain": [
              "<Figure size 432x288 with 1 Axes>"
            ]
          },
          "metadata": {
            "tags": [],
            "needs_background": "light"
          }
        }
      ]
    },
    {
      "cell_type": "markdown",
      "metadata": {
        "id": "OZTlUkrGuAg7"
      },
      "source": [
        "Podemos observar que livros com preço maior possuem um número absoluto de avaliações menor."
      ]
    },
    {
      "cell_type": "markdown",
      "metadata": {
        "id": "YihBG7GUxbtn"
      },
      "source": [
        "Ainda considerando essa questão da discrepância no número de avaliações,\n",
        "**livros com um menor número de avaliações têm uma nota maior?**"
      ]
    },
    {
      "cell_type": "code",
      "metadata": {
        "colab": {
          "base_uri": "https://localhost:8080/",
          "height": 296
        },
        "id": "UoU3cbOWwyYv",
        "outputId": "f36422d3-67bf-4b7c-d746-4adb2ce72464"
      },
      "source": [
        "dedup_table.plot(x='Reviews', y='User Rating', style='o')"
      ],
      "execution_count": 68,
      "outputs": [
        {
          "output_type": "execute_result",
          "data": {
            "text/plain": [
              "<matplotlib.axes._subplots.AxesSubplot at 0x7f7ef3ce3310>"
            ]
          },
          "metadata": {
            "tags": []
          },
          "execution_count": 68
        },
        {
          "output_type": "display_data",
          "data": {
            "image/png": "[encoded data removed]",
            "text/plain": [
              "<Figure size 432x288 with 1 Axes>"
            ]
          },
          "metadata": {
            "tags": [],
            "needs_background": "light"
          }
        }
      ]
    },
    {
      "cell_type": "markdown",
      "metadata": {
        "id": "3cJc5P-QzFow"
      },
      "source": [
        "É difícil concluir algo apenas com esse gráfico, mas chama muito a atenção como alguns poucos livros têm mais do que 40 mil avaliações com notas acima de 4,5. "
      ]
    },
    {
      "cell_type": "markdown",
      "metadata": {
        "id": "6lc_RjgsupUC"
      },
      "source": [
        "Até então estavámos considerando as notas e o número de avaliações como números absolutos, mas se considerarmos as duas coisas em conjunto?\n",
        "\n",
        "Primeiramente, vamos criar uma nova coluna chamada `'Scaled User Rating'` que receberá a nota dividida pelo número de avaliações."
      ]
    },
    {
      "cell_type": "code",
      "metadata": {
        "id": "sXx-VkTKvomY"
      },
      "source": [
        "dedup_table.loc[:, 'Scaled User Rating'] = dedup_table['User Rating'] / dedup_table['Reviews']"
      ],
      "execution_count": 75,
      "outputs": []
    },
    {
      "cell_type": "markdown",
      "metadata": {
        "id": "NHVP13YZAKED"
      },
      "source": [
        "`pandas` permite a utilização de operadores aritméticos (+ - * / % //) diretamente entre as colunas.\n",
        "\n",
        "As operações são realizadas entre as linhas correspondentes das colunas."
      ]
    },
    {
      "cell_type": "markdown",
      "metadata": {
        "id": "QnhnmRL3v-nN"
      },
      "source": [
        "Agora vamos criar um gráfico considerando a nota padronizada:"
      ]
    },
    {
      "cell_type": "code",
      "metadata": {
        "colab": {
          "base_uri": "https://localhost:8080/",
          "height": 296
        },
        "id": "ZsulIfeOwKW6",
        "outputId": "da78db17-b2df-42d9-bb86-a8c72bf62b54"
      },
      "source": [
        "dedup_table.plot(x='Price', y='Scaled User Rating', style='o')"
      ],
      "execution_count": 77,
      "outputs": [
        {
          "output_type": "execute_result",
          "data": {
            "text/plain": [
              "<matplotlib.axes._subplots.AxesSubplot at 0x7f7ef3bf8d90>"
            ]
          },
          "metadata": {
            "tags": []
          },
          "execution_count": 77
        },
        {
          "output_type": "display_data",
          "data": {
            "image/png": "[encoded data removed]",
            "text/plain": [
              "<Figure size 432x288 with 1 Axes>"
            ]
          },
          "metadata": {
            "tags": [],
            "needs_background": "light"
          }
        }
      ]
    },
    {
      "cell_type": "markdown",
      "metadata": {
        "id": "I230kjMl09Ju"
      },
      "source": [
        "A partir desse gráfico, podemos pensar que o número total de avaliações maior não impactou negativamente na nota dos livros. Se eu fosse escolher um livro para ler, consideraria os livros que estão com um número de avaliações maior que 40 mil, porque os livros foram avaliados mais vezes e continuam bem classificados. Claro que existem vieses nesse sentido, inclusive o viés de as pessoas sentirem vontade de avaliar o livro. Será que isso tem relação com o ano que o livro se tornou um *bestselling*?\n",
        "\n",
        "**Qual o número total de avaliações considerando o ano dos *bestsellers*?**"
      ]
    },
    {
      "cell_type": "code",
      "metadata": {
        "colab": {
          "base_uri": "https://localhost:8080/",
          "height": 312
        },
        "id": "Y0XDjpUb1N-r",
        "outputId": "4343b4bd-b574-4eac-d3f4-e586119b8478"
      },
      "source": [
        "dedup_table.groupby('Year')['Reviews'].sum().plot.bar()"
      ],
      "execution_count": 78,
      "outputs": [
        {
          "output_type": "execute_result",
          "data": {
            "text/plain": [
              "<matplotlib.axes._subplots.AxesSubplot at 0x7f7ef3b03550>"
            ]
          },
          "metadata": {
            "tags": []
          },
          "execution_count": 78
        },
        {
          "output_type": "display_data",
          "data": {
            "image/png": "[encoded data removed]",
            "text/plain": [
              "<Figure size 432x288 with 1 Axes>"
            ]
          },
          "metadata": {
            "tags": [],
            "needs_background": "light"
          }
        }
      ]
    },
    {
      "cell_type": "markdown",
      "metadata": {
        "id": "nsldHh3AD_NB"
      },
      "source": [
        "É possível observar que para os primeiros anos o número total de avaliações é realmente menor e isso pode ter relação com vários fatores, como a amostragem e também a difusão do serviço de livros da Amazon em si. Em 2016 e 2017 há uma leve queda, será que tem relação com a remoção das duplicações?\n",
        "\n",
        "**Vamos verificar a distribuição criando o mesmo gráfico, mas agora com a tabela sem remover duplicações!**"
      ]
    },
    {
      "cell_type": "code",
      "metadata": {
        "colab": {
          "base_uri": "https://localhost:8080/",
          "height": 312
        },
        "id": "lz3Zz7Cre349",
        "outputId": "013d98bf-ae5b-4caa-9ddc-130f4f670c81"
      },
      "source": [
        "table.groupby('Year')['Reviews'].sum().plot.bar()"
      ],
      "execution_count": 79,
      "outputs": [
        {
          "output_type": "execute_result",
          "data": {
            "text/plain": [
              "<matplotlib.axes._subplots.AxesSubplot at 0x7f7ef3a92710>"
            ]
          },
          "metadata": {
            "tags": []
          },
          "execution_count": 79
        },
        {
          "output_type": "display_data",
          "data": {
            "image/png": "[encoded data removed]",
            "text/plain": [
              "<Figure size 432x288 with 1 Axes>"
            ]
          },
          "metadata": {
            "tags": [],
            "needs_background": "light"
          }
        }
      ]
    },
    {
      "cell_type": "markdown",
      "metadata": {
        "id": "APBzE8dhJ88p"
      },
      "source": [
        "Interessante! Parece que alguns livros voltaram para a lista de bestsellers em 2016 e 2017? \n",
        "\n",
        "Existem várias coisas legais que poderíamos verificar ainda! Os livros ficaram mais caros com os anos? Qual autor(a) tem mais livros como *bestsellers*?"
      ]
    },
    {
      "cell_type": "markdown",
      "metadata": {
        "id": "x4t34FyskReO"
      },
      "source": [
        "\n",
        "\n",
        "---\n",
        "\n"
      ]
    },
    {
      "cell_type": "markdown",
      "metadata": {
        "id": "f2yUz4kuhnfK"
      },
      "source": [
        "Para finalizar, uma coisa bem comum que precismamos fazer muitas vezes é selecionar linhas de interesse com base em valores de colunas. \n",
        "\n",
        "**Por exemplo, uma seleção dos bestsellers de 2012:**"
      ]
    },
    {
      "cell_type": "code",
      "metadata": {
        "colab": {
          "base_uri": "https://localhost:8080/",
          "height": 204
        },
        "id": "WvENi9N6h0Uy",
        "outputId": "af206f4d-eef8-4d03-e464-73d1cbad5af4"
      },
      "source": [
        "table[table['Year'] == 2012].head()"
      ],
      "execution_count": 81,
      "outputs": [
        {
          "output_type": "execute_result",
          "data": {
            "text/html": [
              "<div>\n",
              "<style scoped>\n",
              "    .dataframe tbody tr th:only-of-type {\n",
              "        vertical-align: middle;\n",
              "    }\n",
              "\n",
              "    .dataframe tbody tr th {\n",
              "        vertical-align: top;\n",
              "    }\n",
              "\n",
              "    .dataframe thead th {\n",
              "        text-align: right;\n",
              "    }\n",
              "</style>\n",
              "<table border=\"1\" class=\"dataframe\">\n",
              "  <thead>\n",
              "    <tr style=\"text-align: right;\">\n",
              "      <th></th>\n",
              "      <th>Name</th>\n",
              "      <th>Author</th>\n",
              "      <th>User Rating</th>\n",
              "      <th>Reviews</th>\n",
              "      <th>Price</th>\n",
              "      <th>Year</th>\n",
              "      <th>Genre</th>\n",
              "    </tr>\n",
              "  </thead>\n",
              "  <tbody>\n",
              "    <tr>\n",
              "      <th>30</th>\n",
              "      <td>Barefoot Contessa Foolproof: Recipes You Can T...</td>\n",
              "      <td>Ina Garten</td>\n",
              "      <td>4.8</td>\n",
              "      <td>1296</td>\n",
              "      <td>24</td>\n",
              "      <td>2012</td>\n",
              "      <td>Non Fiction</td>\n",
              "    </tr>\n",
              "    <tr>\n",
              "      <th>48</th>\n",
              "      <td>Catching Fire (The Hunger Games)</td>\n",
              "      <td>Suzanne Collins</td>\n",
              "      <td>4.7</td>\n",
              "      <td>22614</td>\n",
              "      <td>11</td>\n",
              "      <td>2012</td>\n",
              "      <td>Fiction</td>\n",
              "    </tr>\n",
              "    <tr>\n",
              "      <th>94</th>\n",
              "      <td>Eat to Live: The Amazing Nutrient-Rich Program...</td>\n",
              "      <td>Joel Fuhrman MD</td>\n",
              "      <td>4.5</td>\n",
              "      <td>6346</td>\n",
              "      <td>9</td>\n",
              "      <td>2012</td>\n",
              "      <td>Non Fiction</td>\n",
              "    </tr>\n",
              "    <tr>\n",
              "      <th>104</th>\n",
              "      <td>Fifty Shades Darker</td>\n",
              "      <td>E L James</td>\n",
              "      <td>4.4</td>\n",
              "      <td>23631</td>\n",
              "      <td>7</td>\n",
              "      <td>2012</td>\n",
              "      <td>Fiction</td>\n",
              "    </tr>\n",
              "    <tr>\n",
              "      <th>105</th>\n",
              "      <td>Fifty Shades Freed: Book Three of the Fifty Sh...</td>\n",
              "      <td>E L James</td>\n",
              "      <td>4.5</td>\n",
              "      <td>20262</td>\n",
              "      <td>11</td>\n",
              "      <td>2012</td>\n",
              "      <td>Fiction</td>\n",
              "    </tr>\n",
              "  </tbody>\n",
              "</table>\n",
              "</div>"
            ],
            "text/plain": [
              "                                                  Name  ...        Genre\n",
              "30   Barefoot Contessa Foolproof: Recipes You Can T...  ...  Non Fiction\n",
              "48                    Catching Fire (The Hunger Games)  ...      Fiction\n",
              "94   Eat to Live: The Amazing Nutrient-Rich Program...  ...  Non Fiction\n",
              "104                                Fifty Shades Darker  ...      Fiction\n",
              "105  Fifty Shades Freed: Book Three of the Fifty Sh...  ...      Fiction\n",
              "\n",
              "[5 rows x 7 columns]"
            ]
          },
          "metadata": {
            "tags": []
          },
          "execution_count": 81
        }
      ]
    },
    {
      "cell_type": "markdown",
      "metadata": {
        "id": "l1YVp-sUi0yk"
      },
      "source": [
        "As seleções acontecem como base em booleanos (True ou False) associados com cada linha ao fazermos a comparação `table['Year'] == 2012`:"
      ]
    },
    {
      "cell_type": "code",
      "metadata": {
        "colab": {
          "base_uri": "https://localhost:8080/"
        },
        "id": "5niermyMjFHs",
        "outputId": "c155c1bc-df00-4524-bf73-76748d2d2d40"
      },
      "source": [
        "(table['Year'] == 2012).head()"
      ],
      "execution_count": 82,
      "outputs": [
        {
          "output_type": "execute_result",
          "data": {
            "text/plain": [
              "0    False\n",
              "1    False\n",
              "2    False\n",
              "3    False\n",
              "4    False\n",
              "Name: Year, dtype: bool"
            ]
          },
          "metadata": {
            "tags": []
          },
          "execution_count": 82
        }
      ]
    },
    {
      "cell_type": "markdown",
      "metadata": {
        "id": "KoCfOWR9jN7k"
      },
      "source": [
        "Com base nessa Serie resultante da comparação, cada linha é mantida ou removida do resultado na hora de selecionar com `table[lista de booleanos]`, onde a lista (ou Serie) de booleanos é gerada no momento da comparação (bloco de código anterior)."
      ]
    }
  ]
}